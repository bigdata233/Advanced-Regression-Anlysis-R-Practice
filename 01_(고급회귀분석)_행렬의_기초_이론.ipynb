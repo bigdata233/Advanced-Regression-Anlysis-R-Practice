{
  "nbformat": 4,
  "nbformat_minor": 0,
  "metadata": {
    "colab": {
      "provenance": [],
      "authorship_tag": "ABX9TyM/Qqj/vh+ECOToNe+DWv6j",
      "include_colab_link": true
    },
    "kernelspec": {
      "name": "ir",
      "display_name": "R"
    },
    "language_info": {
      "name": "R"
    }
  },
  "cells": [
    {
      "cell_type": "markdown",
      "metadata": {
        "id": "view-in-github",
        "colab_type": "text"
      },
      "source": [
        "<a href=\"https://colab.research.google.com/github/bigdata233/Advanced-Regression-Anlysis-R-Practice/blob/main/01_(%EA%B3%A0%EA%B8%89%ED%9A%8C%EA%B7%80%EB%B6%84%EC%84%9D)_%ED%96%89%EB%A0%AC%EC%9D%98_%EA%B8%B0%EC%B4%88_%EC%9D%B4%EB%A1%A0.ipynb\" target=\"_parent\"><img src=\"https://colab.research.google.com/assets/colab-badge.svg\" alt=\"Open In Colab\"/></a>"
      ]
    },
    {
      "cell_type": "code",
      "execution_count": null,
      "metadata": {
        "colab": {
          "base_uri": "https://localhost:8080/",
          "height": 52
        },
        "id": "s43iwsyK1Shr",
        "outputId": "fbb0552d-5f1d-4a96-9063-3ac85815e3d2"
      },
      "outputs": [
        {
          "output_type": "display_data",
          "data": {
            "text/html": [
              "<style>\n",
              ".list-inline {list-style: none; margin:0; padding: 0}\n",
              ".list-inline>li {display: inline-block}\n",
              ".list-inline>li:not(:last-child)::after {content: \"\\00b7\"; padding: 0 .5ex}\n",
              "</style>\n",
              "<ol class=list-inline><li>1</li><li>2</li><li>3</li><li>4</li><li>5</li></ol>\n"
            ],
            "text/markdown": "1. 1\n2. 2\n3. 3\n4. 4\n5. 5\n\n\n",
            "text/latex": "\\begin{enumerate*}\n\\item 1\n\\item 2\n\\item 3\n\\item 4\n\\item 5\n\\end{enumerate*}\n",
            "text/plain": [
              "[1] 1 2 3 4 5"
            ]
          },
          "metadata": {}
        },
        {
          "output_type": "display_data",
          "data": {
            "text/html": [
              "'integer'"
            ],
            "text/markdown": "'integer'",
            "text/latex": "'integer'",
            "text/plain": [
              "[1] \"integer\""
            ]
          },
          "metadata": {}
        }
      ],
      "source": [
        "a<-1:5\n",
        "a\n",
        "class(a)"
      ]
    },
    {
      "cell_type": "code",
      "source": [
        "#a의 클래스는 정수형으로 벡터의 차원은 알 수 없다. 만약 a를 열벡터로 하고 싶다면 행렬을 사용하여 다음과 같이 변환할 수 있다.\n",
        "A<-matrix(a,ncol=1)\n",
        "class(A)\n",
        "A"
      ],
      "metadata": {
        "colab": {
          "base_uri": "https://localhost:8080/",
          "height": 278
        },
        "id": "58R330XkgQ8W",
        "outputId": "135d167e-9b9b-44ff-92ac-549f5d2b85dd"
      },
      "execution_count": null,
      "outputs": [
        {
          "output_type": "display_data",
          "data": {
            "text/html": [
              "<style>\n",
              ".list-inline {list-style: none; margin:0; padding: 0}\n",
              ".list-inline>li {display: inline-block}\n",
              ".list-inline>li:not(:last-child)::after {content: \"\\00b7\"; padding: 0 .5ex}\n",
              "</style>\n",
              "<ol class=list-inline><li>'matrix'</li><li>'array'</li></ol>\n"
            ],
            "text/markdown": "1. 'matrix'\n2. 'array'\n\n\n",
            "text/latex": "\\begin{enumerate*}\n\\item 'matrix'\n\\item 'array'\n\\end{enumerate*}\n",
            "text/plain": [
              "[1] \"matrix\" \"array\" "
            ]
          },
          "metadata": {}
        },
        {
          "output_type": "display_data",
          "data": {
            "text/html": [
              "<table class=\"dataframe\">\n",
              "<caption>A matrix: 5 × 1 of type int</caption>\n",
              "<tbody>\n",
              "\t<tr><td>1</td></tr>\n",
              "\t<tr><td>2</td></tr>\n",
              "\t<tr><td>3</td></tr>\n",
              "\t<tr><td>4</td></tr>\n",
              "\t<tr><td>5</td></tr>\n",
              "</tbody>\n",
              "</table>\n"
            ],
            "text/markdown": "\nA matrix: 5 × 1 of type int\n\n| 1 |\n| 2 |\n| 3 |\n| 4 |\n| 5 |\n\n",
            "text/latex": "A matrix: 5 × 1 of type int\n\\begin{tabular}{l}\n\t 1\\\\\n\t 2\\\\\n\t 3\\\\\n\t 4\\\\\n\t 5\\\\\n\\end{tabular}\n",
            "text/plain": [
              "     [,1]\n",
              "[1,] 1   \n",
              "[2,] 2   \n",
              "[3,] 3   \n",
              "[4,] 4   \n",
              "[5,] 5   "
            ]
          },
          "metadata": {}
        }
      ]
    },
    {
      "cell_type": "code",
      "source": [
        "x<-seq(1,4,1)\n",
        "x+2\n",
        "2+x"
      ],
      "metadata": {
        "colab": {
          "base_uri": "https://localhost:8080/",
          "height": 52
        },
        "id": "NPM27kqph0Uq",
        "outputId": "cda1dcd0-d6ca-488c-994a-4ca2b8b7fc21"
      },
      "execution_count": null,
      "outputs": [
        {
          "output_type": "display_data",
          "data": {
            "text/html": [
              "<style>\n",
              ".list-inline {list-style: none; margin:0; padding: 0}\n",
              ".list-inline>li {display: inline-block}\n",
              ".list-inline>li:not(:last-child)::after {content: \"\\00b7\"; padding: 0 .5ex}\n",
              "</style>\n",
              "<ol class=list-inline><li>3</li><li>4</li><li>5</li><li>6</li></ol>\n"
            ],
            "text/markdown": "1. 3\n2. 4\n3. 5\n4. 6\n\n\n",
            "text/latex": "\\begin{enumerate*}\n\\item 3\n\\item 4\n\\item 5\n\\item 6\n\\end{enumerate*}\n",
            "text/plain": [
              "[1] 3 4 5 6"
            ]
          },
          "metadata": {}
        },
        {
          "output_type": "display_data",
          "data": {
            "text/html": [
              "<style>\n",
              ".list-inline {list-style: none; margin:0; padding: 0}\n",
              ".list-inline>li {display: inline-block}\n",
              ".list-inline>li:not(:last-child)::after {content: \"\\00b7\"; padding: 0 .5ex}\n",
              "</style>\n",
              "<ol class=list-inline><li>3</li><li>4</li><li>5</li><li>6</li></ol>\n"
            ],
            "text/markdown": "1. 3\n2. 4\n3. 5\n4. 6\n\n\n",
            "text/latex": "\\begin{enumerate*}\n\\item 3\n\\item 4\n\\item 5\n\\item 6\n\\end{enumerate*}\n",
            "text/plain": [
              "[1] 3 4 5 6"
            ]
          },
          "metadata": {}
        }
      ]
    },
    {
      "cell_type": "code",
      "source": [
        "5*x\n",
        "x*5"
      ],
      "metadata": {
        "colab": {
          "base_uri": "https://localhost:8080/",
          "height": 52
        },
        "id": "df6nRHmMiBB9",
        "outputId": "c46e6e73-3fd6-4020-8966-13c9abe80205"
      },
      "execution_count": null,
      "outputs": [
        {
          "output_type": "display_data",
          "data": {
            "text/html": [
              "<style>\n",
              ".list-inline {list-style: none; margin:0; padding: 0}\n",
              ".list-inline>li {display: inline-block}\n",
              ".list-inline>li:not(:last-child)::after {content: \"\\00b7\"; padding: 0 .5ex}\n",
              "</style>\n",
              "<ol class=list-inline><li>5</li><li>10</li><li>15</li><li>20</li></ol>\n"
            ],
            "text/markdown": "1. 5\n2. 10\n3. 15\n4. 20\n\n\n",
            "text/latex": "\\begin{enumerate*}\n\\item 5\n\\item 10\n\\item 15\n\\item 20\n\\end{enumerate*}\n",
            "text/plain": [
              "[1]  5 10 15 20"
            ]
          },
          "metadata": {}
        },
        {
          "output_type": "display_data",
          "data": {
            "text/html": [
              "<style>\n",
              ".list-inline {list-style: none; margin:0; padding: 0}\n",
              ".list-inline>li {display: inline-block}\n",
              ".list-inline>li:not(:last-child)::after {content: \"\\00b7\"; padding: 0 .5ex}\n",
              "</style>\n",
              "<ol class=list-inline><li>5</li><li>10</li><li>15</li><li>20</li></ol>\n"
            ],
            "text/markdown": "1. 5\n2. 10\n3. 15\n4. 20\n\n\n",
            "text/latex": "\\begin{enumerate*}\n\\item 5\n\\item 10\n\\item 15\n\\item 20\n\\end{enumerate*}\n",
            "text/plain": [
              "[1]  5 10 15 20"
            ]
          },
          "metadata": {}
        }
      ]
    },
    {
      "cell_type": "code",
      "source": [
        "#행렬의 곱\n",
        "A<-matrix(1:4, nrow = 2)\n",
        "B<-matrix(7:10, nrow = 2)\n",
        "A*B"
      ],
      "metadata": {
        "colab": {
          "base_uri": "https://localhost:8080/",
          "height": 132
        },
        "id": "VKCr7Q8MiT8j",
        "outputId": "3cd8d267-ce8d-478e-ddc6-c73993e158b1"
      },
      "execution_count": null,
      "outputs": [
        {
          "output_type": "display_data",
          "data": {
            "text/html": [
              "<table class=\"dataframe\">\n",
              "<caption>A matrix: 2 × 2 of type int</caption>\n",
              "<tbody>\n",
              "\t<tr><td> 7</td><td>27</td></tr>\n",
              "\t<tr><td>16</td><td>40</td></tr>\n",
              "</tbody>\n",
              "</table>\n"
            ],
            "text/markdown": "\nA matrix: 2 × 2 of type int\n\n|  7 | 27 |\n| 16 | 40 |\n\n",
            "text/latex": "A matrix: 2 × 2 of type int\n\\begin{tabular}{ll}\n\t  7 & 27\\\\\n\t 16 & 40\\\\\n\\end{tabular}\n",
            "text/plain": [
              "     [,1] [,2]\n",
              "[1,]  7   27  \n",
              "[2,] 16   40  "
            ]
          },
          "metadata": {}
        }
      ]
    },
    {
      "cell_type": "code",
      "source": [
        "#행렬의 내적(dot product)\n",
        "A%*%B\n",
        "B%*%A"
      ],
      "metadata": {
        "colab": {
          "base_uri": "https://localhost:8080/",
          "height": 247
        },
        "id": "qRWCPcIhid3x",
        "outputId": "c274700b-309e-4add-81e4-220d3d36c854"
      },
      "execution_count": null,
      "outputs": [
        {
          "output_type": "display_data",
          "data": {
            "text/html": [
              "<table class=\"dataframe\">\n",
              "<caption>A matrix: 2 × 2 of type dbl</caption>\n",
              "<tbody>\n",
              "\t<tr><td>31</td><td>39</td></tr>\n",
              "\t<tr><td>46</td><td>58</td></tr>\n",
              "</tbody>\n",
              "</table>\n"
            ],
            "text/markdown": "\nA matrix: 2 × 2 of type dbl\n\n| 31 | 39 |\n| 46 | 58 |\n\n",
            "text/latex": "A matrix: 2 × 2 of type dbl\n\\begin{tabular}{ll}\n\t 31 & 39\\\\\n\t 46 & 58\\\\\n\\end{tabular}\n",
            "text/plain": [
              "     [,1] [,2]\n",
              "[1,] 31   39  \n",
              "[2,] 46   58  "
            ]
          },
          "metadata": {}
        },
        {
          "output_type": "display_data",
          "data": {
            "text/html": [
              "<table class=\"dataframe\">\n",
              "<caption>A matrix: 2 × 2 of type dbl</caption>\n",
              "<tbody>\n",
              "\t<tr><td>25</td><td>57</td></tr>\n",
              "\t<tr><td>28</td><td>64</td></tr>\n",
              "</tbody>\n",
              "</table>\n"
            ],
            "text/markdown": "\nA matrix: 2 × 2 of type dbl\n\n| 25 | 57 |\n| 28 | 64 |\n\n",
            "text/latex": "A matrix: 2 × 2 of type dbl\n\\begin{tabular}{ll}\n\t 25 & 57\\\\\n\t 28 & 64\\\\\n\\end{tabular}\n",
            "text/plain": [
              "     [,1] [,2]\n",
              "[1,] 25   57  \n",
              "[2,] 28   64  "
            ]
          },
          "metadata": {}
        }
      ]
    },
    {
      "cell_type": "code",
      "source": [
        "# 행렬에 벡터를 곱할 경우 R은 행렬곱에서 요구되는 규칙에 부합되도록 열벡터 또는 행벡터로 자연스럽게 사용된다.\n",
        "\n",
        "y<-c(3,4)\n",
        "A%*%y #y는 열벡터\n",
        "y%*%A #y는 행벡터"
      ],
      "metadata": {
        "colab": {
          "base_uri": "https://localhost:8080/",
          "height": 250
        },
        "id": "ks2sUgZuijn0",
        "outputId": "0e0584e7-3d62-4bdb-b064-4a8198d732ed"
      },
      "execution_count": null,
      "outputs": [
        {
          "output_type": "display_data",
          "data": {
            "text/html": [
              "<table class=\"dataframe\">\n",
              "<caption>A matrix: 2 × 1 of type dbl</caption>\n",
              "<tbody>\n",
              "\t<tr><td>15</td></tr>\n",
              "\t<tr><td>22</td></tr>\n",
              "</tbody>\n",
              "</table>\n"
            ],
            "text/markdown": "\nA matrix: 2 × 1 of type dbl\n\n| 15 |\n| 22 |\n\n",
            "text/latex": "A matrix: 2 × 1 of type dbl\n\\begin{tabular}{l}\n\t 15\\\\\n\t 22\\\\\n\\end{tabular}\n",
            "text/plain": [
              "     [,1]\n",
              "[1,] 15  \n",
              "[2,] 22  "
            ]
          },
          "metadata": {}
        },
        {
          "output_type": "display_data",
          "data": {
            "text/html": [
              "<table class=\"dataframe\">\n",
              "<caption>A matrix: 1 × 2 of type dbl</caption>\n",
              "<tbody>\n",
              "\t<tr><td>11</td><td>25</td></tr>\n",
              "</tbody>\n",
              "</table>\n"
            ],
            "text/markdown": "\nA matrix: 1 × 2 of type dbl\n\n| 11 | 25 |\n\n",
            "text/latex": "A matrix: 1 × 2 of type dbl\n\\begin{tabular}{ll}\n\t 11 & 25\\\\\n\\end{tabular}\n",
            "text/plain": [
              "     [,1] [,2]\n",
              "[1,] 11   25  "
            ]
          },
          "metadata": {}
        }
      ]
    },
    {
      "cell_type": "code",
      "source": [
        "A<-matrix(c(2,sqrt(6),sqrt(6),1),2,2)\n",
        "print(A)"
      ],
      "metadata": {
        "colab": {
          "base_uri": "https://localhost:8080/"
        },
        "id": "FFQkeKs8kiWs",
        "outputId": "8049fc9a-d74f-42da-9726-0e7c104bbd0e"
      },
      "execution_count": null,
      "outputs": [
        {
          "output_type": "stream",
          "name": "stdout",
          "text": [
            "        [,1]    [,2]\n",
            "[1,] 2.00000 2.44949\n",
            "[2,] 2.44949 1.00000\n"
          ]
        }
      ]
    },
    {
      "cell_type": "code",
      "source": [
        "#행렬 A는 symmetric matrix이므로 transpose matrix도 A가 된다. 전치행렬은 t() 함수를 통해 구할 수 있다.\n",
        "t(A)"
      ],
      "metadata": {
        "colab": {
          "base_uri": "https://localhost:8080/",
          "height": 114
        },
        "id": "ZhrQKfqIkr3z",
        "outputId": "0101acaa-7a7d-4a7d-862e-2e66f816b5d7"
      },
      "execution_count": null,
      "outputs": [
        {
          "output_type": "display_data",
          "data": {
            "text/html": [
              "<table class=\"dataframe\">\n",
              "<caption>A matrix: 2 × 2 of type dbl</caption>\n",
              "<tbody>\n",
              "\t<tr><td>2.00000</td><td>2.44949</td></tr>\n",
              "\t<tr><td>2.44949</td><td>1.00000</td></tr>\n",
              "</tbody>\n",
              "</table>\n"
            ],
            "text/markdown": "\nA matrix: 2 × 2 of type dbl\n\n| 2.00000 | 2.44949 |\n| 2.44949 | 1.00000 |\n\n",
            "text/latex": "A matrix: 2 × 2 of type dbl\n\\begin{tabular}{ll}\n\t 2.00000 & 2.44949\\\\\n\t 2.44949 & 1.00000\\\\\n\\end{tabular}\n",
            "text/plain": [
              "     [,1]    [,2]   \n",
              "[1,] 2.00000 2.44949\n",
              "[2,] 2.44949 1.00000"
            ]
          },
          "metadata": {}
        }
      ]
    },
    {
      "cell_type": "code",
      "source": [
        "det(A)  #행렬식\n",
        "solve(A)  #역행렬"
      ],
      "metadata": {
        "colab": {
          "base_uri": "https://localhost:8080/",
          "height": 132
        },
        "id": "OYXEKpEfk2sS",
        "outputId": "d0d9ce29-6696-4bca-a231-e40fd05e1c90"
      },
      "execution_count": null,
      "outputs": [
        {
          "output_type": "display_data",
          "data": {
            "text/html": [
              "-4"
            ],
            "text/markdown": "-4",
            "text/latex": "-4",
            "text/plain": [
              "[1] -4"
            ]
          },
          "metadata": {}
        },
        {
          "output_type": "display_data",
          "data": {
            "text/html": [
              "<table class=\"dataframe\">\n",
              "<caption>A matrix: 2 × 2 of type dbl</caption>\n",
              "<tbody>\n",
              "\t<tr><td>-0.2500000</td><td> 0.6123724</td></tr>\n",
              "\t<tr><td> 0.6123724</td><td>-0.5000000</td></tr>\n",
              "</tbody>\n",
              "</table>\n"
            ],
            "text/markdown": "\nA matrix: 2 × 2 of type dbl\n\n| -0.2500000 |  0.6123724 |\n|  0.6123724 | -0.5000000 |\n\n",
            "text/latex": "A matrix: 2 × 2 of type dbl\n\\begin{tabular}{ll}\n\t -0.2500000 &  0.6123724\\\\\n\t  0.6123724 & -0.5000000\\\\\n\\end{tabular}\n",
            "text/plain": [
              "     [,1]       [,2]      \n",
              "[1,] -0.2500000  0.6123724\n",
              "[2,]  0.6123724 -0.5000000"
            ]
          },
          "metadata": {}
        }
      ]
    },
    {
      "cell_type": "code",
      "source": [
        "#행렬 A와 같이 정방행렬이 아닌 행렬의 역행렬을 구하기 위해서 '일반화된 역행렬'을 구할 수 있는데, MASS 패키지의 ginv()함수를 사용할 수 있다.\n",
        "M<-matrix(1:6, nrow=2)\n",
        "M\n",
        "require(MASS)\n",
        "ginv(M)"
      ],
      "metadata": {
        "colab": {
          "base_uri": "https://localhost:8080/",
          "height": 297
        },
        "id": "Yenq7Wv4mBTL",
        "outputId": "d8499586-6bf6-4068-d83e-952f61923269"
      },
      "execution_count": null,
      "outputs": [
        {
          "output_type": "display_data",
          "data": {
            "text/html": [
              "<table class=\"dataframe\">\n",
              "<caption>A matrix: 2 × 3 of type int</caption>\n",
              "<tbody>\n",
              "\t<tr><td>1</td><td>3</td><td>5</td></tr>\n",
              "\t<tr><td>2</td><td>4</td><td>6</td></tr>\n",
              "</tbody>\n",
              "</table>\n"
            ],
            "text/markdown": "\nA matrix: 2 × 3 of type int\n\n| 1 | 3 | 5 |\n| 2 | 4 | 6 |\n\n",
            "text/latex": "A matrix: 2 × 3 of type int\n\\begin{tabular}{lll}\n\t 1 & 3 & 5\\\\\n\t 2 & 4 & 6\\\\\n\\end{tabular}\n",
            "text/plain": [
              "     [,1] [,2] [,3]\n",
              "[1,] 1    3    5   \n",
              "[2,] 2    4    6   "
            ]
          },
          "metadata": {}
        },
        {
          "output_type": "stream",
          "name": "stderr",
          "text": [
            "Loading required package: MASS\n",
            "\n"
          ]
        },
        {
          "output_type": "display_data",
          "data": {
            "text/html": [
              "<table class=\"dataframe\">\n",
              "<caption>A matrix: 3 × 2 of type dbl</caption>\n",
              "<tbody>\n",
              "\t<tr><td>-1.3333333</td><td> 1.0833333</td></tr>\n",
              "\t<tr><td>-0.3333333</td><td> 0.3333333</td></tr>\n",
              "\t<tr><td> 0.6666667</td><td>-0.4166667</td></tr>\n",
              "</tbody>\n",
              "</table>\n"
            ],
            "text/markdown": "\nA matrix: 3 × 2 of type dbl\n\n| -1.3333333 |  1.0833333 |\n| -0.3333333 |  0.3333333 |\n|  0.6666667 | -0.4166667 |\n\n",
            "text/latex": "A matrix: 3 × 2 of type dbl\n\\begin{tabular}{ll}\n\t -1.3333333 &  1.0833333\\\\\n\t -0.3333333 &  0.3333333\\\\\n\t  0.6666667 & -0.4166667\\\\\n\\end{tabular}\n",
            "text/plain": [
              "     [,1]       [,2]      \n",
              "[1,] -1.3333333  1.0833333\n",
              "[2,] -0.3333333  0.3333333\n",
              "[3,]  0.6666667 -0.4166667"
            ]
          },
          "metadata": {}
        }
      ]
    },
    {
      "cell_type": "code",
      "source": [
        "#이와 같은 경우에도 행렬M과 ginv(M)의 곱은 단위행렬이 된다.\n",
        "M%*%ginv(M)"
      ],
      "metadata": {
        "colab": {
          "base_uri": "https://localhost:8080/",
          "height": 97
        },
        "id": "NMt7hNW3mZcx",
        "outputId": "447ef48c-75bd-4898-9a9f-32c095e93728"
      },
      "execution_count": null,
      "outputs": [
        {
          "output_type": "display_data",
          "data": {
            "text/html": [
              "<table class=\"dataframe\">\n",
              "<caption>A matrix: 2 × 2 of type dbl</caption>\n",
              "<tbody>\n",
              "\t<tr><td>1.000000e+00</td><td>-3.330669e-16</td></tr>\n",
              "\t<tr><td>2.220446e-15</td><td> 1.000000e+00</td></tr>\n",
              "</tbody>\n",
              "</table>\n"
            ],
            "text/markdown": "\nA matrix: 2 × 2 of type dbl\n\n| 1.000000e+00 | -3.330669e-16 |\n| 2.220446e-15 |  1.000000e+00 |\n\n",
            "text/latex": "A matrix: 2 × 2 of type dbl\n\\begin{tabular}{ll}\n\t 1.000000e+00 & -3.330669e-16\\\\\n\t 2.220446e-15 &  1.000000e+00\\\\\n\\end{tabular}\n",
            "text/plain": [
              "     [,1]         [,2]         \n",
              "[1,] 1.000000e+00 -3.330669e-16\n",
              "[2,] 2.220446e-15  1.000000e+00"
            ]
          },
          "metadata": {}
        }
      ]
    },
    {
      "cell_type": "code",
      "source": [
        "A<-matrix(1:4, nrow=2);A\n",
        "b<-c(4,6);b\n",
        "print(solve(A,b)) #Ax=b의 x값을 구하는 방법(연립선형방정식의 해 구하기)"
      ],
      "metadata": {
        "colab": {
          "base_uri": "https://localhost:8080/",
          "height": 202
        },
        "id": "hrGg2zdMmp0q",
        "outputId": "ed269ebe-c9e5-43f8-d47d-43ac5d762ac4"
      },
      "execution_count": null,
      "outputs": [
        {
          "output_type": "display_data",
          "data": {
            "text/html": [
              "<table class=\"dataframe\">\n",
              "<caption>A matrix: 2 × 2 of type int</caption>\n",
              "<tbody>\n",
              "\t<tr><td>1</td><td>3</td></tr>\n",
              "\t<tr><td>2</td><td>4</td></tr>\n",
              "</tbody>\n",
              "</table>\n"
            ],
            "text/markdown": "\nA matrix: 2 × 2 of type int\n\n| 1 | 3 |\n| 2 | 4 |\n\n",
            "text/latex": "A matrix: 2 × 2 of type int\n\\begin{tabular}{ll}\n\t 1 & 3\\\\\n\t 2 & 4\\\\\n\\end{tabular}\n",
            "text/plain": [
              "     [,1] [,2]\n",
              "[1,] 1    3   \n",
              "[2,] 2    4   "
            ]
          },
          "metadata": {}
        },
        {
          "output_type": "display_data",
          "data": {
            "text/html": [
              "<style>\n",
              ".list-inline {list-style: none; margin:0; padding: 0}\n",
              ".list-inline>li {display: inline-block}\n",
              ".list-inline>li:not(:last-child)::after {content: \"\\00b7\"; padding: 0 .5ex}\n",
              "</style>\n",
              "<ol class=list-inline><li>4</li><li>6</li></ol>\n"
            ],
            "text/markdown": "1. 4\n2. 6\n\n\n",
            "text/latex": "\\begin{enumerate*}\n\\item 4\n\\item 6\n\\end{enumerate*}\n",
            "text/plain": [
              "[1] 4 6"
            ]
          },
          "metadata": {}
        },
        {
          "output_type": "stream",
          "name": "stdout",
          "text": [
            "[1] 1 1\n"
          ]
        }
      ]
    },
    {
      "cell_type": "code",
      "source": [
        "#고윳값과 고유벡터값 구하기\n",
        "A<-matrix(c(2,sqrt(6),sqrt(6),1),2,2)\n",
        "eigen(A)"
      ],
      "metadata": {
        "id": "HI-fu6SRnAw8"
      },
      "execution_count": null,
      "outputs": []
    },
    {
      "cell_type": "code",
      "source": [
        "#행렬의 분해\n",
        "#p=2인 설명변수를 갖는 중회귀모형으로부터 자료를 생성\n",
        "#설명변수 행렬x1은 5x2행렬\n",
        "#QR분해를 통해 회귀계수추정량(베타)를 계산\n",
        "#qr()함수를 사용 후 qr.Q()함수와 qr.R()함수를 통해 구할 수 있다.\n",
        "\n",
        "set.seed(0153)\n",
        "x1=matrix(rnorm(10), 5,2);x1\n",
        "y1=x1[,1]+rnorm(5)\n",
        "\n",
        "qrx1=qr(x1)\n",
        "x1.Q<-qr.Q(qrx1);x1.Q #서로 직교인 열로 이루어진 5x2행렬 Q\n",
        "x1.R<-qr.R(qrx1);x1.R #2x2 상삼각행렬 R"
      ],
      "metadata": {
        "colab": {
          "base_uri": "https://localhost:8080/",
          "height": 480
        },
        "id": "I6ngqePQoDW4",
        "outputId": "5cd5f4a6-2c7c-43b0-bc2a-36d3a4b70eee"
      },
      "execution_count": null,
      "outputs": [
        {
          "output_type": "display_data",
          "data": {
            "text/html": [
              "<table class=\"dataframe\">\n",
              "<caption>A matrix: 5 × 2 of type dbl</caption>\n",
              "<tbody>\n",
              "\t<tr><td> 2.819099</td><td>-0.3191096</td></tr>\n",
              "\t<tr><td>-0.524167</td><td>-1.3198173</td></tr>\n",
              "\t<tr><td> 1.194761</td><td>-2.2864853</td></tr>\n",
              "\t<tr><td>-1.741019</td><td>-0.7891444</td></tr>\n",
              "\t<tr><td>-0.449941</td><td>-0.8128883</td></tr>\n",
              "</tbody>\n",
              "</table>\n"
            ],
            "text/markdown": "\nA matrix: 5 × 2 of type dbl\n\n|  2.819099 | -0.3191096 |\n| -0.524167 | -1.3198173 |\n|  1.194761 | -2.2864853 |\n| -1.741019 | -0.7891444 |\n| -0.449941 | -0.8128883 |\n\n",
            "text/latex": "A matrix: 5 × 2 of type dbl\n\\begin{tabular}{ll}\n\t  2.819099 & -0.3191096\\\\\n\t -0.524167 & -1.3198173\\\\\n\t  1.194761 & -2.2864853\\\\\n\t -1.741019 & -0.7891444\\\\\n\t -0.449941 & -0.8128883\\\\\n\\end{tabular}\n",
            "text/plain": [
              "     [,1]      [,2]      \n",
              "[1,]  2.819099 -0.3191096\n",
              "[2,] -0.524167 -1.3198173\n",
              "[3,]  1.194761 -2.2864853\n",
              "[4,] -1.741019 -0.7891444\n",
              "[5,] -0.449941 -0.8128883"
            ]
          },
          "metadata": {}
        },
        {
          "output_type": "display_data",
          "data": {
            "text/html": [
              "<table class=\"dataframe\">\n",
              "<caption>A matrix: 5 × 2 of type dbl</caption>\n",
              "<tbody>\n",
              "\t<tr><td>-0.7854161</td><td>-0.01969199</td></tr>\n",
              "\t<tr><td> 0.1460358</td><td>-0.47668537</td></tr>\n",
              "\t<tr><td>-0.3328669</td><td>-0.75760604</td></tr>\n",
              "\t<tr><td> 0.4850573</td><td>-0.33133092</td></tr>\n",
              "\t<tr><td> 0.1253560</td><td>-0.29771830</td></tr>\n",
              "</tbody>\n",
              "</table>\n"
            ],
            "text/markdown": "\nA matrix: 5 × 2 of type dbl\n\n| -0.7854161 | -0.01969199 |\n|  0.1460358 | -0.47668537 |\n| -0.3328669 | -0.75760604 |\n|  0.4850573 | -0.33133092 |\n|  0.1253560 | -0.29771830 |\n\n",
            "text/latex": "A matrix: 5 × 2 of type dbl\n\\begin{tabular}{ll}\n\t -0.7854161 & -0.01969199\\\\\n\t  0.1460358 & -0.47668537\\\\\n\t -0.3328669 & -0.75760604\\\\\n\t  0.4850573 & -0.33133092\\\\\n\t  0.1253560 & -0.29771830\\\\\n\\end{tabular}\n",
            "text/plain": [
              "     [,1]       [,2]       \n",
              "[1,] -0.7854161 -0.01969199\n",
              "[2,]  0.1460358 -0.47668537\n",
              "[3,] -0.3328669 -0.75760604\n",
              "[4,]  0.4850573 -0.33133092\n",
              "[5,]  0.1253560 -0.29771830"
            ]
          },
          "metadata": {}
        },
        {
          "output_type": "display_data",
          "data": {
            "text/html": [
              "<table class=\"dataframe\">\n",
              "<caption>A matrix: 2 × 2 of type dbl</caption>\n",
              "<tbody>\n",
              "\t<tr><td>-3.589306</td><td>0.3343079</td></tr>\n",
              "\t<tr><td> 0.000000</td><td>2.8711563</td></tr>\n",
              "</tbody>\n",
              "</table>\n"
            ],
            "text/markdown": "\nA matrix: 2 × 2 of type dbl\n\n| -3.589306 | 0.3343079 |\n|  0.000000 | 2.8711563 |\n\n",
            "text/latex": "A matrix: 2 × 2 of type dbl\n\\begin{tabular}{ll}\n\t -3.589306 & 0.3343079\\\\\n\t  0.000000 & 2.8711563\\\\\n\\end{tabular}\n",
            "text/plain": [
              "     [,1]      [,2]     \n",
              "[1,] -3.589306 0.3343079\n",
              "[2,]  0.000000 2.8711563"
            ]
          },
          "metadata": {}
        }
      ]
    },
    {
      "cell_type": "code",
      "source": [
        "#2x1 회귀계수 벡터베타를 구하기 위해 qr.solve()함수를 사용하면 된다.\n",
        "## (Rβ=Q'y)이므로 (β=R^-1Q'y)이다.\n",
        "beta1.1=qr.solve(x1.R, t(x1.Q)%*%y1)\n",
        "## (x'xβ=x'y)이므로 (β=(x'x)^-1x'y)이다.\n",
        "beta2.1=qr.solve(t(x1)%*%x1, t(x1)%*%y1)\n",
        "cbind(beta1.1, beta2.1)\n",
        "\n",
        "#위 결과를 통해 QR decompostion으로 추정한 β와 중회귀분석 정규방정식을 QR식으로 추정한 β의 해가 같음을 확인할 수 있다.\n",
        "#또한, 중회귀분석 정규방정식으로 추정한 β는 '최소제곱추정량'이 된다. 즉, 역행렬 solve()함수로도 beta2.1과 비슷한 양상의 식을 구할 수 있다.\n",
        "beta3.1=solve(t(x1)%*%x1)%*%t(x1)%*%y1; beta3.1"
      ],
      "metadata": {
        "id": "JbDKuCfUzJln",
        "colab": {
          "base_uri": "https://localhost:8080/",
          "height": 229
        },
        "outputId": "dc4b4a1c-c189-47e3-be27-330e9448bc51"
      },
      "execution_count": null,
      "outputs": [
        {
          "output_type": "display_data",
          "data": {
            "text/html": [
              "<table class=\"dataframe\">\n",
              "<caption>A matrix: 2 × 2 of type dbl</caption>\n",
              "<tbody>\n",
              "\t<tr><td> 0.6965159</td><td> 0.6965159</td></tr>\n",
              "\t<tr><td>-0.2738166</td><td>-0.2738166</td></tr>\n",
              "</tbody>\n",
              "</table>\n"
            ],
            "text/markdown": "\nA matrix: 2 × 2 of type dbl\n\n|  0.6965159 |  0.6965159 |\n| -0.2738166 | -0.2738166 |\n\n",
            "text/latex": "A matrix: 2 × 2 of type dbl\n\\begin{tabular}{ll}\n\t  0.6965159 &  0.6965159\\\\\n\t -0.2738166 & -0.2738166\\\\\n\\end{tabular}\n",
            "text/plain": [
              "     [,1]       [,2]      \n",
              "[1,]  0.6965159  0.6965159\n",
              "[2,] -0.2738166 -0.2738166"
            ]
          },
          "metadata": {}
        },
        {
          "output_type": "display_data",
          "data": {
            "text/html": [
              "<table class=\"dataframe\">\n",
              "<caption>A matrix: 2 × 1 of type dbl</caption>\n",
              "<tbody>\n",
              "\t<tr><td> 0.6965159</td></tr>\n",
              "\t<tr><td>-0.2738166</td></tr>\n",
              "</tbody>\n",
              "</table>\n"
            ],
            "text/markdown": "\nA matrix: 2 × 1 of type dbl\n\n|  0.6965159 |\n| -0.2738166 |\n\n",
            "text/latex": "A matrix: 2 × 1 of type dbl\n\\begin{tabular}{l}\n\t  0.6965159\\\\\n\t -0.2738166\\\\\n\\end{tabular}\n",
            "text/plain": [
              "     [,1]      \n",
              "[1,]  0.6965159\n",
              "[2,] -0.2738166"
            ]
          },
          "metadata": {}
        }
      ]
    },
    {
      "cell_type": "code",
      "source": [
        "#QR 분해의 장점을 살펴보기 위해 p=500의 설명변수를 갖는 경우를 살펴보자.\n",
        "set.seed(0231)\n",
        "x2=matrix(rnorm(500000), 1000, 500)\n",
        "y2=x2[,1]+rnorm(1000)\n",
        "qrx2=qr(x2)\n",
        "x2.R=qr.R(qrx2)\n",
        "x2.Q=qr.Q(qrx2)"
      ],
      "metadata": {
        "id": "2hMKCRbdzF0e"
      },
      "execution_count": 16,
      "outputs": []
    },
    {
      "cell_type": "code",
      "source": [
        "#β추정량을 계산하는데 걸리는 시간을 비교해보자.\n",
        "start.time=Sys.time()\n",
        "beta1.2=qr.solve(x2.R, t(x2.Q)%*%y2)  # QR분해 추정량\n",
        "end1.time=Sys.time()\n",
        "beta2.2=qr.solve(t(x2)%*%x2, t(x2)%*%y2)  # 정규방정식의 QR식 분해 추정량\n",
        "end2.time=Sys.time()\n",
        "beta3.2=solve(t(x2)%*%x2)%*%t(x2)%*%y2  # 최소제곱추정량\n",
        "end3.time=Sys.time()\n",
        "time.taken.beta1=end1.time-start.time\n",
        "time.taken.beta2=end2.time-end1.time\n",
        "time.taken.beta3=end3.time-end2.time\n",
        "time.taken.beta1\n",
        "time.taken.beta2\n",
        "time.taken.beta3\n",
        "#위 결과로부터 QR 분해를 이용한 컴퓨팅 시간이 가장 짧은 것을 알 수 있다."
      ],
      "metadata": {
        "colab": {
          "base_uri": "https://localhost:8080/",
          "height": 72
        },
        "id": "VC2mWmIEtW_E",
        "outputId": "855c8dfe-3e8e-4bc3-945f-54b79e72871d"
      },
      "execution_count": 17,
      "outputs": [
        {
          "output_type": "display_data",
          "data": {
            "text/plain": [
              "Time difference of 0.04692531 secs"
            ]
          },
          "metadata": {}
        },
        {
          "output_type": "display_data",
          "data": {
            "text/plain": [
              "Time difference of 0.06488943 secs"
            ]
          },
          "metadata": {}
        },
        {
          "output_type": "display_data",
          "data": {
            "text/plain": [
              "Time difference of 0.07827544 secs"
            ]
          },
          "metadata": {}
        }
      ]
    },
    {
      "cell_type": "code",
      "source": [
        "# Var(c'βhat)의 계산에 있어서도 QR 분해가 효율적인지 알아보자.(σ^2은 생략)\n",
        "c=rep(c(1,-1), 250)\n",
        "start.time=Sys.time()\n",
        "var1=c%*%solve(t(x2)%*%x2)%*%c\n",
        "end1.time=Sys.time()\n",
        "d=qr.solve(t(x2.R),c)\n",
        "var2=t(d)%*%d\n",
        "end2.time=Sys.time()\n",
        "time.taken.var1=end1.time-start.time\n",
        "time.taken.var2=end2.time-end1.time\n",
        "time.taken.var1\n",
        "time.taken.var2\n",
        "#위 결과로부터 QR 분해를 이용한 추정량 찾기가 컴퓨팅 부담이 줄어든다는 것을 알 수 있다."
      ],
      "metadata": {
        "colab": {
          "base_uri": "https://localhost:8080/",
          "height": 54
        },
        "id": "8hisDHriz4nz",
        "outputId": "558569da-d7cd-44a9-a5a8-13a6e6f48fb6"
      },
      "execution_count": 19,
      "outputs": [
        {
          "output_type": "display_data",
          "data": {
            "text/plain": [
              "Time difference of 0.04727793 secs"
            ]
          },
          "metadata": {}
        },
        {
          "output_type": "display_data",
          "data": {
            "text/plain": [
              "Time difference of 0.0394156 secs"
            ]
          },
          "metadata": {}
        }
      ]
    }
  ]
}