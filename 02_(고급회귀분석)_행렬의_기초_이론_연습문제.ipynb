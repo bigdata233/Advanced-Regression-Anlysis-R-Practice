{
  "nbformat": 4,
  "nbformat_minor": 0,
  "metadata": {
    "colab": {
      "provenance": [],
      "authorship_tag": "ABX9TyNjQSQFCPbRFbQyYka1UDfS",
      "include_colab_link": true
    },
    "kernelspec": {
      "name": "ir",
      "display_name": "R"
    },
    "language_info": {
      "name": "R"
    }
  },
  "cells": [
    {
      "cell_type": "markdown",
      "metadata": {
        "id": "view-in-github",
        "colab_type": "text"
      },
      "source": [
        "<a href=\"https://colab.research.google.com/github/bigdata233/Advanced-Regression-Anlysis-R-Practice/blob/main/02_(%EA%B3%A0%EA%B8%89%ED%9A%8C%EA%B7%80%EB%B6%84%EC%84%9D)_%ED%96%89%EB%A0%AC%EC%9D%98_%EA%B8%B0%EC%B4%88_%EC%9D%B4%EB%A1%A0_%EC%97%B0%EC%8A%B5%EB%AC%B8%EC%A0%9C.ipynb\" target=\"_parent\"><img src=\"https://colab.research.google.com/assets/colab-badge.svg\" alt=\"Open In Colab\"/></a>"
      ]
    },
    {
      "cell_type": "code",
      "execution_count": 3,
      "metadata": {
        "colab": {
          "base_uri": "https://localhost:8080/",
          "height": 121
        },
        "id": "3Se1GWS1qRb9",
        "outputId": "c7c0e50e-b13b-4e9a-9ad4-8ec46c16f197"
      },
      "outputs": [
        {
          "output_type": "display_data",
          "data": {
            "text/html": [
              "2"
            ],
            "text/markdown": "2",
            "text/latex": "2",
            "text/plain": [
              "[1] 2\n",
              "attr(,\"method\")\n",
              "[1] \"tolNorm2\"\n",
              "attr(,\"useGrad\")\n",
              "[1] FALSE\n",
              "attr(,\"tol\")\n",
              "[1] 6.661338e-16"
            ]
          },
          "metadata": {}
        },
        {
          "output_type": "display_data",
          "data": {
            "text/html": [
              "2"
            ],
            "text/markdown": "2",
            "text/latex": "2",
            "text/plain": [
              "[1] 2\n",
              "attr(,\"method\")\n",
              "[1] \"tolNorm2\"\n",
              "attr(,\"useGrad\")\n",
              "[1] FALSE\n",
              "attr(,\"tol\")\n",
              "[1] 6.661338e-16"
            ]
          },
          "metadata": {}
        },
        {
          "output_type": "display_data",
          "data": {
            "text/html": [
              "2"
            ],
            "text/markdown": "2",
            "text/latex": "2",
            "text/plain": [
              "[1] 2\n",
              "attr(,\"method\")\n",
              "[1] \"tolNorm2\"\n",
              "attr(,\"useGrad\")\n",
              "[1] FALSE\n",
              "attr(,\"tol\")\n",
              "[1] 6.661338e-16"
            ]
          },
          "metadata": {}
        },
        {
          "output_type": "display_data",
          "data": {
            "text/html": [
              "2"
            ],
            "text/markdown": "2",
            "text/latex": "2",
            "text/plain": [
              "[1] 2\n",
              "attr(,\"method\")\n",
              "[1] \"tolNorm2\"\n",
              "attr(,\"useGrad\")\n",
              "[1] FALSE\n",
              "attr(,\"tol\")\n",
              "[1] 6.661338e-16"
            ]
          },
          "metadata": {}
        },
        {
          "output_type": "display_data",
          "data": {
            "text/html": [
              "2"
            ],
            "text/markdown": "2",
            "text/latex": "2",
            "text/plain": [
              "[1] 2\n",
              "attr(,\"method\")\n",
              "[1] \"tolNorm2\"\n",
              "attr(,\"useGrad\")\n",
              "[1] FALSE\n",
              "attr(,\"tol\")\n",
              "[1] 6.661338e-16"
            ]
          },
          "metadata": {}
        },
        {
          "output_type": "display_data",
          "data": {
            "text/html": [
              "3"
            ],
            "text/markdown": "3",
            "text/latex": "3",
            "text/plain": [
              "[1] 3\n",
              "attr(,\"method\")\n",
              "[1] \"tolNorm2\"\n",
              "attr(,\"useGrad\")\n",
              "[1] FALSE\n",
              "attr(,\"tol\")\n",
              "[1] 6.661338e-16"
            ]
          },
          "metadata": {}
        }
      ],
      "source": [
        "#1.2)\n",
        "A=matrix(c(3,2,7,1,-2,-3,2,4,10), 3, 3)\n",
        "B=matrix(c(1,2,-1,2,0,2,3,1,2), 3, 3)\n",
        "library(Matrix)\n",
        "rankMatrix(A%*%B)\n",
        "rankMatrix(t(A)%*%A)\n",
        "rankMatrix(A%*%t(A))\n",
        "rankMatrix(A)\n",
        "rankMatrix(B)\n",
        "rankMatrix(A+B)"
      ]
    },
    {
      "cell_type": "code",
      "source": [
        "#1.3)\n",
        "C=matrix(c(1/sqrt(3),1/sqrt(2), 1/sqrt(6), 1/sqrt(3), 1/sqrt(2), 1/sqrt(6), 1/sqrt(3), 0, -2/sqrt(6)), 3, 3);C\n",
        "t(C)%*%C"
      ],
      "metadata": {
        "colab": {
          "base_uri": "https://localhost:8080/",
          "height": 240
        },
        "id": "1OdJwiTdtNtE",
        "outputId": "9215b6a3-e44c-4cbd-aa92-bc6d8607c6d2"
      },
      "execution_count": 14,
      "outputs": [
        {
          "output_type": "display_data",
          "data": {
            "text/html": [
              "<table class=\"dataframe\">\n",
              "<caption>A matrix: 3 × 3 of type dbl</caption>\n",
              "<tbody>\n",
              "\t<tr><td>0.5773503</td><td>0.5773503</td><td> 0.5773503</td></tr>\n",
              "\t<tr><td>0.7071068</td><td>0.7071068</td><td> 0.0000000</td></tr>\n",
              "\t<tr><td>0.4082483</td><td>0.4082483</td><td>-0.8164966</td></tr>\n",
              "</tbody>\n",
              "</table>\n"
            ],
            "text/markdown": "\nA matrix: 3 × 3 of type dbl\n\n| 0.5773503 | 0.5773503 |  0.5773503 |\n| 0.7071068 | 0.7071068 |  0.0000000 |\n| 0.4082483 | 0.4082483 | -0.8164966 |\n\n",
            "text/latex": "A matrix: 3 × 3 of type dbl\n\\begin{tabular}{lll}\n\t 0.5773503 & 0.5773503 &  0.5773503\\\\\n\t 0.7071068 & 0.7071068 &  0.0000000\\\\\n\t 0.4082483 & 0.4082483 & -0.8164966\\\\\n\\end{tabular}\n",
            "text/plain": [
              "     [,1]      [,2]      [,3]      \n",
              "[1,] 0.5773503 0.5773503  0.5773503\n",
              "[2,] 0.7071068 0.7071068  0.0000000\n",
              "[3,] 0.4082483 0.4082483 -0.8164966"
            ]
          },
          "metadata": {}
        },
        {
          "output_type": "display_data",
          "data": {
            "text/html": [
              "<table class=\"dataframe\">\n",
              "<caption>A matrix: 3 × 3 of type dbl</caption>\n",
              "<tbody>\n",
              "\t<tr><td>1.000000e+00</td><td>1.000000e+00</td><td>4.586339e-19</td></tr>\n",
              "\t<tr><td>1.000000e+00</td><td>1.000000e+00</td><td>4.586339e-19</td></tr>\n",
              "\t<tr><td>4.586339e-19</td><td>4.586339e-19</td><td>1.000000e+00</td></tr>\n",
              "</tbody>\n",
              "</table>\n"
            ],
            "text/markdown": "\nA matrix: 3 × 3 of type dbl\n\n| 1.000000e+00 | 1.000000e+00 | 4.586339e-19 |\n| 1.000000e+00 | 1.000000e+00 | 4.586339e-19 |\n| 4.586339e-19 | 4.586339e-19 | 1.000000e+00 |\n\n",
            "text/latex": "A matrix: 3 × 3 of type dbl\n\\begin{tabular}{lll}\n\t 1.000000e+00 & 1.000000e+00 & 4.586339e-19\\\\\n\t 1.000000e+00 & 1.000000e+00 & 4.586339e-19\\\\\n\t 4.586339e-19 & 4.586339e-19 & 1.000000e+00\\\\\n\\end{tabular}\n",
            "text/plain": [
              "     [,1]         [,2]         [,3]        \n",
              "[1,] 1.000000e+00 1.000000e+00 4.586339e-19\n",
              "[2,] 1.000000e+00 1.000000e+00 4.586339e-19\n",
              "[3,] 4.586339e-19 4.586339e-19 1.000000e+00"
            ]
          },
          "metadata": {}
        }
      ]
    },
    {
      "cell_type": "code",
      "source": [
        "#1.7\n",
        "A=matrix(c(2,2,3,5,1,3,3,1,2,5,1,3), 4, 3)\n",
        "rankMatrix(A)\n",
        "t(A)%*%A"
      ],
      "metadata": {
        "colab": {
          "base_uri": "https://localhost:8080/",
          "height": 163
        },
        "id": "BGiaabMN0wEk",
        "outputId": "21ab22bc-3526-42b7-dfde-cc11f3a9c4a9"
      },
      "execution_count": 17,
      "outputs": [
        {
          "output_type": "display_data",
          "data": {
            "text/html": [
              "3"
            ],
            "text/markdown": "3",
            "text/latex": "3",
            "text/plain": [
              "[1] 3\n",
              "attr(,\"method\")\n",
              "[1] \"tolNorm2\"\n",
              "attr(,\"useGrad\")\n",
              "[1] FALSE\n",
              "attr(,\"tol\")\n",
              "[1] 8.881784e-16"
            ]
          },
          "metadata": {}
        },
        {
          "output_type": "display_data",
          "data": {
            "text/html": [
              "<table class=\"dataframe\">\n",
              "<caption>A matrix: 3 × 3 of type dbl</caption>\n",
              "<tbody>\n",
              "\t<tr><td>42</td><td>22</td><td>32</td></tr>\n",
              "\t<tr><td>22</td><td>20</td><td>23</td></tr>\n",
              "\t<tr><td>32</td><td>23</td><td>39</td></tr>\n",
              "</tbody>\n",
              "</table>\n"
            ],
            "text/markdown": "\nA matrix: 3 × 3 of type dbl\n\n| 42 | 22 | 32 |\n| 22 | 20 | 23 |\n| 32 | 23 | 39 |\n\n",
            "text/latex": "A matrix: 3 × 3 of type dbl\n\\begin{tabular}{lll}\n\t 42 & 22 & 32\\\\\n\t 22 & 20 & 23\\\\\n\t 32 & 23 & 39\\\\\n\\end{tabular}\n",
            "text/plain": [
              "     [,1] [,2] [,3]\n",
              "[1,] 42   22   32  \n",
              "[2,] 22   20   23  \n",
              "[3,] 32   23   39  "
            ]
          },
          "metadata": {}
        }
      ]
    },
    {
      "cell_type": "code",
      "source": [
        "#1.9\n",
        "x<-rep(1/4,16)\n",
        "A=matrix(x,4,4)\n",
        "det(A)"
      ],
      "metadata": {
        "colab": {
          "base_uri": "https://localhost:8080/",
          "height": 34
        },
        "id": "UI7J8Z6y3m_V",
        "outputId": "858a11f8-3d98-4765-e05b-7b88fe99ba6c"
      },
      "execution_count": 24,
      "outputs": [
        {
          "output_type": "display_data",
          "data": {
            "text/html": [
              "0"
            ],
            "text/markdown": "0",
            "text/latex": "0",
            "text/plain": [
              "[1] 0"
            ]
          },
          "metadata": {}
        }
      ]
    }
  ]
}