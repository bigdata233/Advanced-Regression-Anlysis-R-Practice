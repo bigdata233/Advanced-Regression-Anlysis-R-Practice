{
  "nbformat": 4,
  "nbformat_minor": 0,
  "metadata": {
    "colab": {
      "provenance": [],
      "authorship_tag": "ABX9TyMXLjFDihHesx92Ww6M6l0y",
      "include_colab_link": true
    },
    "kernelspec": {
      "name": "ir",
      "display_name": "R"
    },
    "language_info": {
      "name": "R"
    }
  },
  "cells": [
    {
      "cell_type": "markdown",
      "metadata": {
        "id": "view-in-github",
        "colab_type": "text"
      },
      "source": [
        "<a href=\"https://colab.research.google.com/github/bigdata233/Advanced-Regression-Anlysis-R-Practice/blob/main/03_(%EA%B3%A0%EA%B8%89%ED%9A%8C%EA%B7%80%EB%B6%84%EC%84%9D)_%EA%B8%B0%EC%B4%88%EC%A0%81_%ED%86%B5%EA%B3%84_%EC%9D%B4%EB%A1%A0_%EC%97%B0%EC%8A%B5%EB%AC%B8%EC%A0%9C.ipynb\" target=\"_parent\"><img src=\"https://colab.research.google.com/assets/colab-badge.svg\" alt=\"Open In Colab\"/></a>"
      ]
    },
    {
      "cell_type": "code",
      "execution_count": null,
      "metadata": {
        "id": "E0ijeDnrQv57",
        "outputId": "c40ab324-bdae-4552-c975-0a3ddbf12e12",
        "colab": {
          "base_uri": "https://localhost:8080/",
          "height": 53
        }
      },
      "outputs": [
        {
          "output_type": "display_data",
          "data": {
            "text/html": [
              "29.18"
            ],
            "text/markdown": "29.18",
            "text/latex": "29.18",
            "text/plain": [
              "[1] 29.18"
            ]
          },
          "metadata": {}
        },
        {
          "output_type": "stream",
          "name": "stdout",
          "text": [
            "[1] 70.08\n"
          ]
        }
      ],
      "source": [
        "#2.2.1\n",
        "Ex<-9000000/500000+10000*4/500000+1000000*5/500000+10000*50/500000+1000*500/5000000\n",
        "Ex\n",
        "#2.2.3\n",
        "# 계산\n",
        "target <- 20000000\n",
        "constant <- 9000000*1 + 10000*4 + 1000000*5 + 10000*50 + 1000*500\n",
        "x <- (target + constant) / 500000\n",
        "\n",
        "# 결과 출력\n",
        "print(x)"
      ]
    },
    {
      "cell_type": "code",
      "source": [
        "#2.6\n",
        "x<-c(74.9,75.5,72.5,73.4,78.2,77.8)\n",
        "t.test(x)$conf.int"
      ],
      "metadata": {
        "colab": {
          "base_uri": "https://localhost:8080/",
          "height": 34
        },
        "id": "1cMTvPh5WG3X",
        "outputId": "46d6494b-390b-47a7-8682-9f7d780df1de"
      },
      "execution_count": 13,
      "outputs": [
        {
          "output_type": "display_data",
          "data": {
            "text/html": [
              "<style>\n",
              ".list-inline {list-style: none; margin:0; padding: 0}\n",
              ".list-inline>li {display: inline-block}\n",
              ".list-inline>li:not(:last-child)::after {content: \"\\00b7\"; padding: 0 .5ex}\n",
              "</style>\n",
              "<ol class=list-inline><li>72.9779346641757</li><li>77.788732002491</li></ol>\n"
            ],
            "text/markdown": "1. 72.9779346641757\n2. 77.788732002491\n\n\n",
            "text/latex": "\\begin{enumerate*}\n\\item 72.9779346641757\n\\item 77.788732002491\n\\end{enumerate*}\n",
            "text/plain": [
              "[1] 72.97793 77.78873\n",
              "attr(,\"conf.level\")\n",
              "[1] 0.95"
            ]
          },
          "metadata": {}
        }
      ]
    },
    {
      "cell_type": "code",
      "source": [
        "#2.7\n",
        "\n",
        "# 대립가설 : mu > 1,000\n",
        "mu<-1000; xbar<-986; s<-75; n<-64;\n",
        "t0<-(xbar-mu)/(s/sqrt(n)); t0\n",
        "pt(-t0, df=63, lower.tail=FALSE)\n",
        "qt(0.05, df=63)\n",
        "\n",
        "# 임계값보다 검정통계량의 절대값이 더 작으므로, 귀무가설을 기각할 수 없다."
      ],
      "metadata": {
        "colab": {
          "base_uri": "https://localhost:8080/",
          "height": 69
        },
        "id": "ceSn4H6ndo_T",
        "outputId": "722c9efa-9b1f-45cf-e030-aecfc96c66a5"
      },
      "execution_count": 20,
      "outputs": [
        {
          "output_type": "display_data",
          "data": {
            "text/html": [
              "-1.49333333333333"
            ],
            "text/markdown": "-1.49333333333333",
            "text/latex": "-1.49333333333333",
            "text/plain": [
              "[1] -1.493333"
            ]
          },
          "metadata": {}
        },
        {
          "output_type": "display_data",
          "data": {
            "text/html": [
              "0.0701707824549943"
            ],
            "text/markdown": "0.0701707824549943",
            "text/latex": "0.0701707824549943",
            "text/plain": [
              "[1] 0.07017078"
            ]
          },
          "metadata": {}
        },
        {
          "output_type": "display_data",
          "data": {
            "text/html": [
              "-1.66940222170681"
            ],
            "text/markdown": "-1.66940222170681",
            "text/latex": "-1.66940222170681",
            "text/plain": [
              "[1] -1.669402"
            ]
          },
          "metadata": {}
        }
      ]
    },
    {
      "cell_type": "code",
      "source": [
        "#2.8\n",
        "\n",
        "# 귀무가설 : mu = 98.5\n",
        "mu<-98.5; xbar<-(95*12+96*12+97*15+98*10+99*8+100*3)/50; n=50; sigma<-sqrt(1.5);\n",
        "z0<-(xbar-mu)/(sigma/sqrt(n)); z0\n",
        "result<-2*pnorm(z0, lower.tail=FALSE)\n",
        "result\n",
        "qnorm(0.05)\n",
        "# 임계값보다 검정통계량의 절대값이 더 크므로, 귀무가설을 기각한다."
      ],
      "metadata": {
        "colab": {
          "base_uri": "https://localhost:8080/",
          "height": 69
        },
        "id": "mBLKanqYegyF",
        "outputId": "1e31df82-7e4d-4819-c2c0-0d0986e8e049"
      },
      "execution_count": 34,
      "outputs": [
        {
          "output_type": "display_data",
          "data": {
            "text/html": [
              "103.230228131105"
            ],
            "text/markdown": "103.230228131105",
            "text/latex": "103.230228131105",
            "text/plain": [
              "[1] 103.2302"
            ]
          },
          "metadata": {}
        },
        {
          "output_type": "display_data",
          "data": {
            "text/html": [
              "0"
            ],
            "text/markdown": "0",
            "text/latex": "0",
            "text/plain": [
              "[1] 0"
            ]
          },
          "metadata": {}
        },
        {
          "output_type": "display_data",
          "data": {
            "text/html": [
              "-1.64485362695147"
            ],
            "text/markdown": "-1.64485362695147",
            "text/latex": "-1.64485362695147",
            "text/plain": [
              "[1] -1.644854"
            ]
          },
          "metadata": {}
        }
      ]
    },
    {
      "cell_type": "code",
      "source": [
        "#2.10\n",
        "\n",
        "mean <- 70\n",
        "sd <- 8\n",
        "\n",
        "# 누적확률 계산\n",
        "p_1 <- pnorm(58, mean=mean, sd=sd)  # P(X ≤ 58)\n",
        "p_2 <- pnorm(66, mean=mean, sd=sd)  # P(X ≤ 66)\n",
        "p_3 <- pnorm(74, mean=mean, sd=sd)  # P(X ≤ 74)\n",
        "p_4 <- pnorm(82, mean=mean, sd=sd)  # P(X ≤ 82)\n",
        "p_5 <- 1-pnorm(82, mean=mean, sd=sd) # 마지막 구간\n",
        "\n",
        "# 구간 확률 (백분율로)\n",
        "percentage1 <- p_1 * 100\n",
        "percentage2 <- p_2 * 100\n",
        "percentage3 <- p_3 * 100\n",
        "percentage4 <- p_4 * 100\n",
        "percentage5 <- p_5 * 100\n",
        "# 출력\n",
        "cat(\"F학점:\", round(percentage1, 2), \"%\\n\")\n",
        "cat(\"D학점:\", round(percentage2, 2), \"%\\n\")\n",
        "cat(\"C학점:\", round(percentage3, 2), \"%\\n\")\n",
        "cat(\"B학점:\", round(percentage4, 2), \"%\\n\")\n",
        "cat(\"A학점:\", round(percentage5, 2), \"%\\n\")"
      ],
      "metadata": {
        "colab": {
          "base_uri": "https://localhost:8080/"
        },
        "id": "E0fFGySHqOXG",
        "outputId": "9029d470-4bd8-4b8f-9449-eb4c69ebbdd7"
      },
      "execution_count": 48,
      "outputs": [
        {
          "output_type": "stream",
          "name": "stdout",
          "text": [
            "F학점: 6.68 %\n",
            "D학점: 30.85 %\n",
            "C학점: 69.15 %\n",
            "B학점: 93.32 %\n",
            "A학점: 6.68 %\n"
          ]
        }
      ]
    },
    {
      "cell_type": "code",
      "source": [
        "# 2.11\n",
        "\n",
        "# 기본 설정\n",
        "mu0 <- 25      # 귀무가설 평균\n",
        "mu1 <- 25.3      # 대립가설 평균\n",
        "sigma <- 0.2      # 모집단 표준편차\n",
        "n <- 5          # 표본 크기\n",
        "alpha <- 0.05    # 유의수준\n",
        "\n",
        "# 임계값 (z-test 기준)\n",
        "z_alpha <- qnorm(1 - alpha)\n",
        "se <- sigma / sqrt(n)\n",
        "critical_value <- mu0 + z_alpha * se ; critical_value\n",
        "\n",
        "# 검정력 계산: 대립가설 하에서 임계값 초과할 확률 (귀무가설이 옳다고 할 확률)\n",
        "power <- 1 - pnorm(critical_value, mean = mu1, sd = se)\n",
        "\n",
        "# 1종 오류는 그대로 alpha\n",
        "cat(\"1종 오류 (α):\", alpha, \"\\n\")\n",
        "cat(\"검정력 (power):\", round(power, 4), \"\\n\")"
      ],
      "metadata": {
        "colab": {
          "base_uri": "https://localhost:8080/",
          "height": 71
        },
        "id": "2TbFFM5MrSTT",
        "outputId": "8a9155c8-0b1e-4ec4-9777-5179a0031ba5"
      },
      "execution_count": 50,
      "outputs": [
        {
          "output_type": "display_data",
          "data": {
            "text/html": [
              "25.147120180916"
            ],
            "text/markdown": "25.147120180916",
            "text/latex": "25.147120180916",
            "text/plain": [
              "[1] 25.14712"
            ]
          },
          "metadata": {}
        },
        {
          "output_type": "stream",
          "name": "stdout",
          "text": [
            "1종 오류 (α): 0.05 \n",
            "검정력 (power): 0.9563 \n"
          ]
        }
      ]
    }
  ]
}