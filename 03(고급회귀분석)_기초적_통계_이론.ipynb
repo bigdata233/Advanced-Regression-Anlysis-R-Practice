{
  "nbformat": 4,
  "nbformat_minor": 0,
  "metadata": {
    "colab": {
      "provenance": [],
      "authorship_tag": "ABX9TyMLFNc/o9fKof977lwfZUk7",
      "include_colab_link": true
    },
    "kernelspec": {
      "name": "ir",
      "display_name": "R"
    },
    "language_info": {
      "name": "R"
    }
  },
  "cells": [
    {
      "cell_type": "markdown",
      "metadata": {
        "id": "view-in-github",
        "colab_type": "text"
      },
      "source": [
        "<a href=\"https://colab.research.google.com/github/bigdata233/Advanced-Regression-Anlysis-R-Practice/blob/main/03(%EA%B3%A0%EA%B8%89%ED%9A%8C%EA%B7%80%EB%B6%84%EC%84%9D)_%EA%B8%B0%EC%B4%88%EC%A0%81_%ED%86%B5%EA%B3%84_%EC%9D%B4%EB%A1%A0.ipynb\" target=\"_parent\"><img src=\"https://colab.research.google.com/assets/colab-badge.svg\" alt=\"Open In Colab\"/></a>"
      ]
    },
    {
      "cell_type": "code",
      "execution_count": 7,
      "metadata": {
        "colab": {
          "base_uri": "https://localhost:8080/",
          "height": 52
        },
        "id": "LbSLPh9wFOqg",
        "outputId": "2bd26d11-cc23-4154-9671-ce11b84198ca"
      },
      "outputs": [
        {
          "output_type": "display_data",
          "data": {
            "text/html": [
              "<style>\n",
              ".list-inline {list-style: none; margin:0; padding: 0}\n",
              ".list-inline>li {display: inline-block}\n",
              ".list-inline>li:not(:last-child)::after {content: \"\\00b7\"; padding: 0 .5ex}\n",
              "</style>\n",
              "<ol class=list-inline><li>8.81567987792497</li><li>9.18432012207503</li></ol>\n"
            ],
            "text/markdown": "1. 8.81567987792497\n2. 9.18432012207503\n\n\n",
            "text/latex": "\\begin{enumerate*}\n\\item 8.81567987792497\n\\item 9.18432012207503\n\\end{enumerate*}\n",
            "text/plain": [
              "[1] 8.81568 9.18432\n",
              "attr(,\"conf.level\")\n",
              "[1] 0.95"
            ]
          },
          "metadata": {}
        },
        {
          "output_type": "display_data",
          "data": {
            "text/html": [
              "0.95"
            ],
            "text/markdown": "0.95",
            "text/latex": "0.95",
            "text/plain": [
              "[1] 0.95"
            ]
          },
          "metadata": {}
        }
      ],
      "source": [
        "x<-c(9.0, 9.1, 8.8, 9.1, 9.0, 9.4, 9.2, 8.8, 8.6)\n",
        "t.test(x)$conf.int  #default값 : 95% 신뢰구간을 얻을 수 있음($conf.int)\n",
        "\n",
        "attr(t.test(x)$conf.int,\"conf.level\") #해당 t-test 신뢰구간의 레벨을 체크 할 수 있음"
      ]
    },
    {
      "cell_type": "code",
      "source": [
        "t.test(x, conf.level=0.99)$conf.int\n",
        "\n",
        "attr(t.test(x, conf.level=0.99)$conf.int, \"conf.level\")"
      ],
      "metadata": {
        "colab": {
          "base_uri": "https://localhost:8080/",
          "height": 52
        },
        "id": "ba_5pk7DF9G7",
        "outputId": "be9439f1-2bb8-4118-f119-5d8660c23bef"
      },
      "execution_count": 14,
      "outputs": [
        {
          "output_type": "display_data",
          "data": {
            "text/html": [
              "<style>\n",
              ".list-inline {list-style: none; margin:0; padding: 0}\n",
              ".list-inline>li {display: inline-block}\n",
              ".list-inline>li:not(:last-child)::after {content: \"\\00b7\"; padding: 0 .5ex}\n",
              "</style>\n",
              "<ol class=list-inline><li>8.73180212772445</li><li>9.26819787227555</li></ol>\n"
            ],
            "text/markdown": "1. 8.73180212772445\n2. 9.26819787227555\n\n\n",
            "text/latex": "\\begin{enumerate*}\n\\item 8.73180212772445\n\\item 9.26819787227555\n\\end{enumerate*}\n",
            "text/plain": [
              "[1] 8.731802 9.268198\n",
              "attr(,\"conf.level\")\n",
              "[1] 0.99"
            ]
          },
          "metadata": {}
        },
        {
          "output_type": "display_data",
          "data": {
            "text/html": [
              "0.99"
            ],
            "text/markdown": "0.99",
            "text/latex": "0.99",
            "text/plain": [
              "[1] 0.99"
            ]
          },
          "metadata": {}
        }
      ]
    },
    {
      "cell_type": "code",
      "source": [
        "# 단측검정과 양측검정의 유의확률(p-value) 구하기\n",
        "\n",
        "mu<-73.7; xbar<-75.1; sigma<-1; n<-16\n",
        "z0<-(xbar-mu)/(1/sqrt(n))\n",
        "#대립가설 : mu>737\n",
        "p.H1<-pnorm(z0, lower.tail=FALSE); p.H1\n",
        "#대립가설 : mu<737\n",
        "p.H2<-pnorm(-z0, lower.tail=TRUE); p.H2\n",
        "#대립가설 : mu != 737 (양측검정)\n",
        "p.H3<-2*pnorm(z0, lower.tail=FALSE); p.H3\n",
        "\n",
        "##따라서 귀무가설 기각한다."
      ],
      "metadata": {
        "colab": {
          "base_uri": "https://localhost:8080/",
          "height": 69
        },
        "id": "9n-Vjg6jGiNh",
        "outputId": "ffcf5875-432b-4e49-dd4a-500668608128"
      },
      "execution_count": 35,
      "outputs": [
        {
          "output_type": "display_data",
          "data": {
            "text/html": [
              "1.0717590258313e-08"
            ],
            "text/markdown": "1.0717590258313e-08",
            "text/latex": "1.0717590258313e-08",
            "text/plain": [
              "[1] 1.071759e-08"
            ]
          },
          "metadata": {}
        },
        {
          "output_type": "display_data",
          "data": {
            "text/html": [
              "1.0717590258313e-08"
            ],
            "text/markdown": "1.0717590258313e-08",
            "text/latex": "1.0717590258313e-08",
            "text/plain": [
              "[1] 1.071759e-08"
            ]
          },
          "metadata": {}
        },
        {
          "output_type": "display_data",
          "data": {
            "text/html": [
              "2.1435180516626e-08"
            ],
            "text/markdown": "2.1435180516626e-08",
            "text/latex": "2.1435180516626e-08",
            "text/plain": [
              "[1] 2.143518e-08"
            ]
          },
          "metadata": {}
        }
      ]
    },
    {
      "cell_type": "code",
      "source": [
        "# 양측 검정의 유의확률(p-value)는 다음과도 같이 구할 수 있다.\n",
        "p.H3<-pnorm(-z0, lower.tail=TRUE)+pnorm(z0, lower.tail=FALSE);p.H3\n",
        "## 따라서 귀무가설 기각한다."
      ],
      "metadata": {
        "colab": {
          "base_uri": "https://localhost:8080/",
          "height": 34
        },
        "id": "V8f2lns2IWa3",
        "outputId": "00422993-7701-46ce-cd25-b27528e7673e"
      },
      "execution_count": 33,
      "outputs": [
        {
          "output_type": "display_data",
          "data": {
            "text/html": [
              "2.1435180516626e-08"
            ],
            "text/markdown": "2.1435180516626e-08",
            "text/latex": "2.1435180516626e-08",
            "text/plain": [
              "[1] 2.143518e-08"
            ]
          },
          "metadata": {}
        }
      ]
    },
    {
      "cell_type": "code",
      "source": [
        "# 모분산이 알려지지 않은 경우, 소표본인 경우 (t-분포함수를 활용한 유의확률 구하기)\n",
        "# 대립가설 : mu < 2.0\n",
        "mu<-2; xbar<-1.96; s<-0.05; n<-25;\n",
        "t0<-(xbar-mu)/(s/sqrt(n)); t0\n",
        "pt(t0, df=24, lower.tail=TRUE)\n",
        "## 따라서 귀무가설 기각한다."
      ],
      "metadata": {
        "colab": {
          "base_uri": "https://localhost:8080/",
          "height": 52
        },
        "id": "kq84ctfjJBL8",
        "outputId": "e29a51d7-5ac3-44ed-fd17-1b337de13183"
      },
      "execution_count": 42,
      "outputs": [
        {
          "output_type": "display_data",
          "data": {
            "text/html": [
              "-4"
            ],
            "text/markdown": "-4",
            "text/latex": "-4",
            "text/plain": [
              "[1] -4"
            ]
          },
          "metadata": {}
        },
        {
          "output_type": "display_data",
          "data": {
            "text/html": [
              "0.00026345403639085"
            ],
            "text/markdown": "0.00026345403639085",
            "text/latex": "0.00026345403639085",
            "text/plain": [
              "[1] 0.000263454"
            ]
          },
          "metadata": {}
        }
      ]
    },
    {
      "cell_type": "code",
      "source": [
        "# 기각역은 qt()함수를 사용하여 다음과 같이 구할 수 있다.\n",
        "qt(0.05, df=24)\n",
        "\n",
        "#qt(0.05, df=24)=>임계값-1.71 보다 검정 통계량(-4)이 더 작으므로 귀무가설을 기각한다고도 볼 수 있다."
      ],
      "metadata": {
        "colab": {
          "base_uri": "https://localhost:8080/",
          "height": 34
        },
        "id": "6lAtZJUIL6Mh",
        "outputId": "f37f58bb-55a4-4dd8-efb7-d87b12d082d7"
      },
      "execution_count": 37,
      "outputs": [
        {
          "output_type": "display_data",
          "data": {
            "text/html": [
              "-1.71088207990943"
            ],
            "text/markdown": "-1.71088207990943",
            "text/latex": "-1.71088207990943",
            "text/plain": [
              "[1] -1.710882"
            ]
          },
          "metadata": {}
        }
      ]
    }
  ]
}